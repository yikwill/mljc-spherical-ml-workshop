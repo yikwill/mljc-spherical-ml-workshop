{
 "cells": [
  {
   "cell_type": "markdown",
   "id": "27cfe57b",
   "metadata": {},
   "source": [
    "# These are example implementations of the functions for the workshop."
   ]
  },
  {
   "cell_type": "code",
   "execution_count": null,
   "id": "a5676360",
   "metadata": {},
   "outputs": [],
   "source": [
    "def lat_lon_pad(x, pad):\n",
    "    # Assumes x has shape [batch, channel, height, width]\n",
    "\n",
    "    top = x[..., :pad, :]\n",
    "    bottom = x[..., -pad:, :]\n",
    "\n",
    "    x = torch.cat(\n",
    "        (\n",
    "            top.rot90(2, dims=(-2,-1)),\n",
    "            x,\n",
    "            bottom.rot90(2, dims=(-2,-1))\n",
    "        ),\n",
    "        dim=-2\n",
    "    )\n",
    "\n",
    "    left = x[..., :, -pad:]\n",
    "    right = x[..., :, :pad]\n",
    "\n",
    "    x = torch.cat(\n",
    "        (\n",
    "            left,\n",
    "            x,\n",
    "            right,\n",
    "        ),\n",
    "        dim=-1\n",
    "    )\n",
    "\n",
    "    return x"
   ]
  },
  {
   "cell_type": "code",
   "execution_count": null,
   "id": "540ea3bd",
   "metadata": {},
   "outputs": [],
   "source": [
    "def pad_n2(n2, n1, n3, n4, e2, e3, s2, pad=1):\n",
    "    p = pad\n",
    "\n",
    "    center = torch.cat(\n",
    "        (\n",
    "            n3.rot90(1, dims=(-2,-1))[..., -p:, :],\n",
    "            n2,\n",
    "            e2[...,:p, :]\n",
    "        ),\n",
    "        dim=-2\n",
    "    )\n",
    "\n",
    "    left = torch.cat(\n",
    "        (\n",
    "            n4.rot90(2, dims=(-2,-1))[...,-p:,-p:],\n",
    "            n1.rot90(-1, dims=(-2,-1))[...,-p:],\n",
    "            n1[...,:p,-p:],\n",
    "        ),\n",
    "        dim=-2,\n",
    "    )\n",
    "\n",
    "    right = torch.cat(\n",
    "        (\n",
    "            n3[...,-p:,:p],\n",
    "            e3[...,:p],\n",
    "            s2[...,:p,:p]\n",
    "        ),\n",
    "        dim=-2\n",
    "    )\n",
    "\n",
    "    return torch.cat((left, center, right), dim=-1)\n"
   ]
  }
 ],
 "metadata": {
  "language_info": {
   "name": "python"
  }
 },
 "nbformat": 4,
 "nbformat_minor": 5
}
