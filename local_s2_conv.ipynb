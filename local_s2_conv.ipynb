{
 "cells": [
  {
   "cell_type": "code",
   "execution_count": 1,
   "id": "85da0f5f",
   "metadata": {},
   "outputs": [],
   "source": [
    "import torch\n",
    "from torch_harmonics import DiscreteContinuousConvS2"
   ]
  },
  {
   "cell_type": "code",
   "execution_count": 2,
   "id": "c528851c",
   "metadata": {},
   "outputs": [],
   "source": [
    "layer = DiscreteContinuousConvS2(\n",
    "    in_channels=3,\n",
    "    out_channels=5,\n",
    "    in_shape=(180,360),\n",
    "    out_shape=(180,360),\n",
    "    kernel_shape=(3,3),\n",
    ")"
   ]
  },
  {
   "cell_type": "code",
   "execution_count": 4,
   "id": "1772c73d",
   "metadata": {},
   "outputs": [
    {
     "data": {
      "text/plain": [
       "torch.Size([2, 5, 180, 360])"
      ]
     },
     "execution_count": 4,
     "metadata": {},
     "output_type": "execute_result"
    }
   ],
   "source": [
    "x = torch.rand(2,3,180,360)\n",
    "x = layer(x)\n",
    "x.shape"
   ]
  },
  {
   "cell_type": "code",
   "execution_count": null,
   "id": "9f9f4e1a",
   "metadata": {},
   "outputs": [],
   "source": []
  }
 ],
 "metadata": {
  "kernelspec": {
   "display_name": "venv (3.12.1)",
   "language": "python",
   "name": "python3"
  },
  "language_info": {
   "codemirror_mode": {
    "name": "ipython",
    "version": 3
   },
   "file_extension": ".py",
   "mimetype": "text/x-python",
   "name": "python",
   "nbconvert_exporter": "python",
   "pygments_lexer": "ipython3",
   "version": "3.12.1"
  }
 },
 "nbformat": 4,
 "nbformat_minor": 5
}
