{
 "cells": [
  {
   "cell_type": "code",
   "execution_count": 1,
   "id": "b7f174a9",
   "metadata": {},
   "outputs": [],
   "source": [
    "import earth2grid\n",
    "import torch"
   ]
  },
  {
   "cell_type": "code",
   "execution_count": 2,
   "id": "6e53ec11",
   "metadata": {},
   "outputs": [
    {
     "data": {
      "text/plain": [
       "torch.Size([49152])"
      ]
     },
     "execution_count": 2,
     "metadata": {},
     "output_type": "execute_result"
    }
   ],
   "source": [
    "level = 6\n",
    "hpx = earth2grid.healpix.Grid(level=level, pixel_order=earth2grid.healpix.XY())\n",
    "src = earth2grid.latlon.equiangular_lat_lon_grid(32, 64)\n",
    "z_torch = torch.cos(torch.deg2rad(torch.tensor(src.lat)))\n",
    "z_torch = z_torch.broadcast_to(src.shape)\n",
    "regrid = earth2grid.get_regridder(src, hpx)\n",
    "z_hpx = regrid(z_torch)\n",
    "z_hpx.shape"
   ]
  },
  {
   "cell_type": "code",
   "execution_count": null,
   "id": "01cef845",
   "metadata": {},
   "outputs": [],
   "source": []
  }
 ],
 "metadata": {
  "kernelspec": {
   "display_name": "venv",
   "language": "python",
   "name": "python3"
  },
  "language_info": {
   "codemirror_mode": {
    "name": "ipython",
    "version": 3
   },
   "file_extension": ".py",
   "mimetype": "text/x-python",
   "name": "python",
   "nbconvert_exporter": "python",
   "pygments_lexer": "ipython3",
   "version": "3.12.1"
  }
 },
 "nbformat": 4,
 "nbformat_minor": 5
}
